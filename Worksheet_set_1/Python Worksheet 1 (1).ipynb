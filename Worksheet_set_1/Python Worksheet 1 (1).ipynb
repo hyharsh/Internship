{
 "cells": [
  {
   "cell_type": "markdown",
   "id": "87c17290",
   "metadata": {},
   "source": [
    "Program to Find a Facotrial of a Number"
   ]
  },
  {
   "cell_type": "code",
   "execution_count": 3,
   "id": "f9d55425",
   "metadata": {},
   "outputs": [
    {
     "name": "stdout",
     "output_type": "stream",
     "text": [
      "Enter a number: 5\n",
      "The factorial of 5 is 120\n"
     ]
    }
   ],
   "source": [
    "num = int(input(\"Enter a number: \"))    \n",
    "factorial = 1    \n",
    "if num < 0:    \n",
    "   print(\" Factorial does not exist for negative numbers\")    \n",
    "elif num == 0:    \n",
    "   print(\"The factorial of 0 is 1\")    \n",
    "else:    \n",
    "   for i in range(1,num + 1):    \n",
    "       factorial = factorial*i    \n",
    "   print(\"The factorial of\",num,\"is\",factorial)"
   ]
  },
  {
   "cell_type": "markdown",
   "id": "137b6882",
   "metadata": {},
   "source": [
    "Program to Find whether the number is prime or composite"
   ]
  },
  {
   "cell_type": "code",
   "execution_count": 42,
   "id": "62a6216d",
   "metadata": {},
   "outputs": [
    {
     "name": "stdout",
     "output_type": "stream",
     "text": [
      "Enter The Number11\n",
      "11 is a Prime number\n"
     ]
    }
   ],
   "source": [
    "number = int(input(\"Enter The Number\"))\n",
    "\n",
    "if number > 1:\n",
    "    for i in range(2,int(number/2)+1):\n",
    "        if (number % i == 0):\n",
    "            print(number, \"is a composite Number\")\n",
    "            break\n",
    "    else:\n",
    "        print(number,\"is a Prime number\")\n",
    "# If the number is less than 1 it can't be Prime    \n",
    "else:\n",
    "    print(number,\"is not a Prime number\")"
   ]
  },
  {
   "cell_type": "markdown",
   "id": "d0246729",
   "metadata": {},
   "source": [
    "Program to check whether a given string is palindrome or not."
   ]
  },
  {
   "cell_type": "code",
   "execution_count": 48,
   "id": "f84a0ab4",
   "metadata": {},
   "outputs": [
    {
     "name": "stdout",
     "output_type": "stream",
     "text": [
      "Enter a String:radar\n",
      "The String is a palindrome\n"
     ]
    }
   ],
   "source": [
    "string=input((\"Enter a String:\"))  \n",
    "if(string==string[::-1]):  \n",
    "      print(\"The String is a palindrome\")  \n",
    "else:  \n",
    "      print(\"The string is not a palindrome\")"
   ]
  },
  {
   "cell_type": "markdown",
   "id": "a499fc33",
   "metadata": {},
   "source": [
    "Program to get the third side of right-angled triangle from two given sides."
   ]
  },
  {
   "cell_type": "code",
   "execution_count": 47,
   "id": "fdf2552d",
   "metadata": {},
   "outputs": [
    {
     "name": "stdout",
     "output_type": "stream",
     "text": [
      "Enter base: 3\n",
      "Enter height: 4\n",
      "Hypotenuse = 5.0\n"
     ]
    }
   ],
   "source": [
    "import math\n",
    "\n",
    "a = float(input(\"Enter base: \"))\n",
    "b = float(input(\"Enter height: \"))\n",
    "c = math.sqrt(a ** 2 + b ** 2)\n",
    "\n",
    "print(\"Hypotenuse =\", c)"
   ]
  },
  {
   "cell_type": "markdown",
   "id": "23147ddd",
   "metadata": {},
   "source": [
    "Program to print the frequency of each of the characters present in a given string"
   ]
  },
  {
   "cell_type": "code",
   "execution_count": 51,
   "id": "8535b271",
   "metadata": {},
   "outputs": [
    {
     "name": "stdout",
     "output_type": "stream",
     "text": [
      "{'D': 1, 'a': 3, 't': 2, 'r': 1, 'i': 1, 'n': 1, 'e': 1, 'd': 1}\n"
     ]
    }
   ],
   "source": [
    "def char_frequency(str1):\n",
    "    dict = {}\n",
    "    for i in str1:\n",
    "        keys = dict.keys()\n",
    "        if i in keys:\n",
    "            dict[i] += 1\n",
    "        else:\n",
    "            dict[i] = 1\n",
    "    return dict\n",
    "print(char_frequency('Datatrained'))"
   ]
  },
  {
   "cell_type": "code",
   "execution_count": null,
   "id": "a833c05b",
   "metadata": {},
   "outputs": [],
   "source": []
  }
 ],
 "metadata": {
  "kernelspec": {
   "display_name": "Python 3",
   "language": "python",
   "name": "python3"
  },
  "language_info": {
   "codemirror_mode": {
    "name": "ipython",
    "version": 3
   },
   "file_extension": ".py",
   "mimetype": "text/x-python",
   "name": "python",
   "nbconvert_exporter": "python",
   "pygments_lexer": "ipython3",
   "version": "3.8.8"
  }
 },
 "nbformat": 4,
 "nbformat_minor": 5
}
